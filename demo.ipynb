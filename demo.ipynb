{
 "cells": [
  {
   "cell_type": "code",
   "execution_count": 2,
   "metadata": {},
   "outputs": [],
   "source": [
    "import numpy as np\n",
    "from pcm_construction.bbcodes import bbpcm\n",
    "from src.noise.data_qubit import depolarizing_round\n",
    "from src.closed_branch_decoder import CB_decoder"
   ]
  },
  {
   "cell_type": "code",
   "execution_count": 3,
   "metadata": {},
   "outputs": [
    {
     "name": "stdout",
     "output_type": "stream",
     "text": [
      "(72, 144)\n",
      "[0 0 0 0 0 0 0 0 0 0 0 0 0 0 0 0 0 0 0 0 0 0 0 0 0 0 0 0 0 0 0 0 0 0 0 0 0\n",
      " 0 0 0 0 0 0 0 0 0 0 0 0 0 0 0 0 0 0 0 0 0 0 0 1 0 0 0 0 0 0 0 0 0 0 0]\n",
      "[0 0 0 0 0 0 0 0 1 0 0 0 0 0 0 0 0 0 0 0 0 0 0 0 0 0 0 0 0 0 0 0 0 0 0 0 0\n",
      " 0 0 0 0 0 0 0 0 1 0 0 0 0 0 0 0 0 0 0 0 0 0 0 1 0 0 0 1 0 0 0 0 0 0 0]\n",
      "(72,)\n",
      "BP fails\n",
      "[0.0, 0.0, 0.0, 0.0, 0.0, 0.0, 0.0, 0.0, 0.0, 0.0, 0.0, 0.0, 0.0, 0.0, 0.0, 0.0, 0.0, 0.0, 0.0, 0.0, 0.0, 0.0, 0.0, 0.0, 0.0, 0.0, 0.0, 0.0, 0.0, 1.0, 0.0, 0.0, 0.0, 0.0, 0.0, 0.0, 0.0, 0.0, 0.0, 0.0, 0.0, 0.0, 0.0, 0.0, 0.0, 1.0, 0.0, 0.0, 0.0, 0.0, 0.0, 1.0, 0.0, 0.0, 0.0, 0.0, 0.0, 0.0, 0.0, 0.0, 0.0, 0.0, 0.0, 0.0, 0.0, 0.0, 1.0, 0.0, 0.0, 0.0, 1.0, 0.0]\n",
      "\n",
      "STEP NUMBER 1\n",
      "Weight of syndrome 5.0\n",
      "\n",
      "Weight = 6.952197379670552\n",
      "Weight one errors\n"
     ]
    },
    {
     "ename": "TypeError",
     "evalue": "ufunc 'bitwise_xor' not supported for the input types, and the inputs could not be safely coerced to any supported types according to the casting rule ''safe''",
     "output_type": "error",
     "traceback": [
      "\u001b[1;31m---------------------------------------------------------------------------\u001b[0m",
      "\u001b[1;31mTypeError\u001b[0m                                 Traceback (most recent call last)",
      "Input \u001b[1;32mIn [3]\u001b[0m, in \u001b[0;36m<cell line: 26>\u001b[1;34m()\u001b[0m\n\u001b[0;32m     23\u001b[0m syndrome \u001b[38;5;241m=\u001b[39m np\u001b[38;5;241m.\u001b[39mdot(H, error) \u001b[38;5;241m%\u001b[39m \u001b[38;5;241m2\u001b[39m\n\u001b[0;32m     24\u001b[0m \u001b[38;5;28mprint\u001b[39m(syndrome\u001b[38;5;241m.\u001b[39mshape)\n\u001b[1;32m---> 26\u001b[0m error_recovered \u001b[38;5;241m=\u001b[39m \u001b[43mmyDecoder\u001b[49m\u001b[38;5;241;43m.\u001b[39;49m\u001b[43mdecode\u001b[49m\u001b[43m(\u001b[49m\u001b[43msyndrome\u001b[49m\u001b[43m,\u001b[49m\u001b[43m \u001b[49m\u001b[43mcomments\u001b[49m\u001b[43m \u001b[49m\u001b[38;5;241;43m=\u001b[39;49m\u001b[43m \u001b[49m\u001b[38;5;28;43;01mTrue\u001b[39;49;00m\u001b[43m)\u001b[49m\n",
      "File \u001b[1;32mc:\\Users\\tonid\\OneDrive\\Escritorio\\CBDec\\src\\closed_branch_decoder.py:340\u001b[0m, in \u001b[0;36mCB_decoder.decode\u001b[1;34m(self, syndrome, comments)\u001b[0m\n\u001b[0;32m    338\u001b[0m \u001b[38;5;28;01mif\u001b[39;00m comments:\n\u001b[0;32m    339\u001b[0m     \u001b[38;5;28mprint\u001b[39m(\u001b[38;5;124mf\u001b[39m\u001b[38;5;124m'\u001b[39m\u001b[38;5;124mWeight one errors\u001b[39m\u001b[38;5;124m'\u001b[39m)\n\u001b[1;32m--> 340\u001b[0m cluster \u001b[38;5;241m=\u001b[39m \u001b[38;5;28;43mself\u001b[39;49m\u001b[38;5;241;43m.\u001b[39;49m\u001b[43mweight_1_errors\u001b[49m\u001b[43m(\u001b[49m\u001b[43msyndrome\u001b[49m\u001b[43m,\u001b[49m\u001b[43m \u001b[49m\u001b[43mweight\u001b[49m\u001b[43m,\u001b[49m\u001b[43m \u001b[49m\u001b[43mcluster\u001b[49m\u001b[43m,\u001b[49m\u001b[43m \u001b[49m\u001b[43mreordered_llr\u001b[49m\u001b[43m,\u001b[49m\u001b[43m \u001b[49m\u001b[43mreordered_binary_matrix\u001b[49m\u001b[43m)\u001b[49m\n\u001b[0;32m    343\u001b[0m \u001b[38;5;28;01mif\u001b[39;00m comments:\n\u001b[0;32m    344\u001b[0m     \u001b[38;5;28mprint\u001b[39m(\u001b[38;5;124mf\u001b[39m\u001b[38;5;124m'\u001b[39m\u001b[38;5;124mWeight syndrome\u001b[39m\u001b[38;5;124m'\u001b[39m)\n",
      "File \u001b[1;32mc:\\Users\\tonid\\OneDrive\\Escritorio\\CBDec\\src\\closed_branch_decoder.py:75\u001b[0m, in \u001b[0;36mCB_decoder.weight_1_errors\u001b[1;34m(self, syndrome, weight, cluster, reordered_llr, reordered_binary_matrix, pc)\u001b[0m\n\u001b[0;32m     61\u001b[0m \u001b[38;5;28;01mdef\u001b[39;00m \u001b[38;5;21mweight_1_errors\u001b[39m(\n\u001b[0;32m     62\u001b[0m         \u001b[38;5;28mself\u001b[39m,\n\u001b[0;32m     63\u001b[0m         syndrome: np\u001b[38;5;241m.\u001b[39marray ,\n\u001b[1;32m   (...)\u001b[0m\n\u001b[0;32m     73\u001b[0m  \n\u001b[0;32m     74\u001b[0m     \u001b[38;5;66;03m# Get the indices where syndrome equals 1\u001b[39;00m\n\u001b[1;32m---> 75\u001b[0m     checks_to_flip \u001b[38;5;241m=\u001b[39m \u001b[43mnp\u001b[49m\u001b[38;5;241;43m.\u001b[39;49m\u001b[43mbitwise_xor\u001b[49m\u001b[43m(\u001b[49m\u001b[43mcluster\u001b[49m\u001b[38;5;241;43m.\u001b[39;49m\u001b[43mchecks\u001b[49m\u001b[43m,\u001b[49m\u001b[43m \u001b[49m\u001b[43msyndrome\u001b[49m\u001b[43m)\u001b[49m\n\u001b[0;32m     76\u001b[0m     ones_indices \u001b[38;5;241m=\u001b[39m np\u001b[38;5;241m.\u001b[39mwhere(checks_to_flip \u001b[38;5;241m==\u001b[39m \u001b[38;5;241m1\u001b[39m)[\u001b[38;5;241m0\u001b[39m]\n\u001b[0;32m     77\u001b[0m     \u001b[38;5;66;03m# Get the columns where syndrome equals 1\u001b[39;00m\n",
      "\u001b[1;31mTypeError\u001b[0m: ufunc 'bitwise_xor' not supported for the input types, and the inputs could not be safely coerced to any supported types according to the casting rule ''safe''"
     ]
    }
   ],
   "source": [
    "# We will first create the parity check matrix. For this example, it will be l = 6, m = 6 A_poly = \n",
    "l = 6\n",
    "m = 6 \n",
    "# A polynomial = x^3+y+y^2\n",
    "A_poly = [[0,3], [1,1], [1,2]]\n",
    "# B polynomial = y^3 + x + x^2\n",
    "B_poly = [[1,3], [0,1], [0,2]]\n",
    "\n",
    "H, Hx, Hz = bbpcm(l = l, m = m, A_poly= A_poly, B_poly = B_poly)\n",
    "\n",
    "print(H.shape)\n",
    "p = 0.03 #10%\n",
    "error = depolarizing_round(p, H.shape[1])\n",
    "print(error[:H.shape[1]//2])\n",
    "print(error[H.shape[1]//2:])\n",
    "\n",
    "n_branches = 10\n",
    "n_growths = 5\n",
    "model = (H, p)            \n",
    "\n",
    "myDecoder = CB_decoder(model, max_branches = n_branches, max_growths = n_growths)\n",
    "\n",
    "syndrome = np.dot(H, error) % 2\n",
    "print(syndrome.shape)\n",
    "\n",
    "error_recovered = myDecoder.decode(syndrome, comments = True)"
   ]
  },
  {
   "cell_type": "code",
   "execution_count": 10,
   "metadata": {},
   "outputs": [
    {
     "name": "stdout",
     "output_type": "stream",
     "text": [
      "[19]\n",
      "[ 0 19]\n",
      "[ 0  5 19]\n",
      "[4]\n",
      "[ 4 31]\n",
      "[ 4 25 31]\n"
     ]
    }
   ],
   "source": [
    "l = 6\n",
    "m = 6 \n",
    "# A polynomial = x^3+y+y^2\n",
    "A_poly = [[0,3], [1,1], [1,2]]\n",
    "# B polynomial = y^3 + x + x^2\n",
    "B_poly = [[1,3], [0,1], [0,2]]\n",
    "\n",
    "S_l = np.roll(np.eye(l), 1, axis = 1)\n",
    "S_m = np.roll(np.eye(m), 1, axis = 1)\n",
    "\n",
    "x = np.kron(S_l, np.eye(m))\n",
    "y = np.kron(np.eye(l), S_m)\n",
    "\n",
    "A = np.zeros((l*m, l*m))\n",
    "\n",
    "for element in A_poly:\n",
    "    if element[0] == 0:\n",
    "        A = (A + np.linalg.matrix_power(x, element[1])) % 2\n",
    "    elif element[0] == 1:\n",
    "        A = (A + np.linalg.matrix_power(y, element[1])) % 2\n",
    "    print(np.where(A[:, 1] == 1)[0])\n",
    "B = np.zeros((l*m, l*m))\n",
    "for element in B_poly:\n",
    "    if element[0] == 0:\n",
    "        B = (B + np.linalg.matrix_power(x, element[1])) % 2\n",
    "    elif element[0] == 1:\n",
    "        B = (B + np.linalg.matrix_power(y, element[1])) % 2\n",
    "    print(np.where(B[:, 1] == 1)[0])\n",
    "\n",
    "Hx = np.hstack((A, B))\n",
    "Hz = np.hstack((B.T, A.T))\n",
    "zero_contribution = np.zeros(Hx.shape)\n",
    "top = np.hstack((Hx, zero_contribution))\n",
    "bottom = np.hstack((zero_contribution, Hz))\n",
    "H = np.vstack((top, bottom))"
   ]
  },
  {
   "cell_type": "code",
   "execution_count": null,
   "metadata": {},
   "outputs": [],
   "source": []
  },
  {
   "cell_type": "code",
   "execution_count": null,
   "metadata": {},
   "outputs": [],
   "source": []
  }
 ],
 "metadata": {
  "kernelspec": {
   "display_name": "Python 3",
   "language": "python",
   "name": "python3"
  },
  "language_info": {
   "codemirror_mode": {
    "name": "ipython",
    "version": 3
   },
   "file_extension": ".py",
   "mimetype": "text/x-python",
   "name": "python",
   "nbconvert_exporter": "python",
   "pygments_lexer": "ipython3",
   "version": "3.10.5"
  }
 },
 "nbformat": 4,
 "nbformat_minor": 2
}
