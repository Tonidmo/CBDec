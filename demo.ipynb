{
 "cells": [
  {
   "cell_type": "code",
   "execution_count": 1,
   "metadata": {},
   "outputs": [],
   "source": [
    "import numpy as np\n",
    "from pcm_construction.bbcodes import bbpcm\n",
    "from src.noise.data_qubit import depolarizing_round\n",
    "from src.closed_branch_decoder import CB_decoder"
   ]
  },
  {
   "cell_type": "code",
   "execution_count": 2,
   "metadata": {},
   "outputs": [
    {
     "name": "stdout",
     "output_type": "stream",
     "text": [
      "(72, 144)\n",
      "[0 0 0 0 0 0 0 0 0 0 0 0 0 0 0 0 0 0 0 0 0 0 0 0 0 0 0 0 0 0 0 0 0 0 0 0 0\n",
      " 0 0 0 0 0 0 0 0 0 0 0 1 0 0 0 0 0 0 0 0 0 0 0 0 0 0 0 0 0 0 0 0 0 0 0]\n",
      "[0 0 0 0 0 0 0 0 0 0 0 0 0 0 0 0 0 0 0 0 0 0 0 0 0 0 0 1 0 0 0 0 0 0 0 0 0\n",
      " 0 0 0 0 0 0 0 0 0 0 0 1 0 0 0 0 0 0 0 0 0 0 0 0 0 0 0 0 0 0 0 0 0 0 0]\n",
      "(72,)\n"
     ]
    }
   ],
   "source": [
    "# We will first create the parity check matrix. For this example, it will be l = 6, m = 6 A_poly = \n",
    "l = 6\n",
    "m = 6 \n",
    "# A polynomial = x^3+y+y^2\n",
    "A_poly = [[0,3], [1,1], [1,2]]\n",
    "# B polynomial = y^3 + x + x^2\n",
    "B_poly = [[1,3], [0,1], [0,2]]\n",
    "\n",
    "H, Hx, Hz = bbpcm(l = l, m = m, A_poly= A_poly, B_poly = B_poly)\n",
    "\n",
    "print(H.shape)\n",
    "p = 0.03 #10%\n",
    "error = depolarizing_round(p, H.shape[1])\n",
    "print(error[:H.shape[1]//2])\n",
    "print(error[H.shape[1]//2:])\n",
    "\n",
    "n_branches = 10\n",
    "n_growths = 5\n",
    "model = (H, p)            \n",
    "\n",
    "myDecoder = CB_decoder(model, max_branches = n_branches, max_growths = n_growths)\n",
    "\n",
    "syndrome = np.dot(H, error) % 2\n",
    "print(syndrome.shape)\n",
    "\n",
    "error_recovered = myDecoder.decode(syndrome, comments = True)"
   ]
  },
  {
   "cell_type": "code",
   "execution_count": 10,
   "metadata": {},
   "outputs": [
    {
     "name": "stdout",
     "output_type": "stream",
     "text": [
      "[19]\n",
      "[ 0 19]\n",
      "[ 0  5 19]\n",
      "[4]\n",
      "[ 4 31]\n",
      "[ 4 25 31]\n"
     ]
    }
   ],
   "source": [
    "l = 6\n",
    "m = 6 \n",
    "# A polynomial = x^3+y+y^2\n",
    "A_poly = [[0,3], [1,1], [1,2]]\n",
    "# B polynomial = y^3 + x + x^2\n",
    "B_poly = [[1,3], [0,1], [0,2]]\n",
    "\n",
    "S_l = np.roll(np.eye(l), 1, axis = 1)\n",
    "S_m = np.roll(np.eye(m), 1, axis = 1)\n",
    "\n",
    "x = np.kron(S_l, np.eye(m))\n",
    "y = np.kron(np.eye(l), S_m)\n",
    "\n",
    "A = np.zeros((l*m, l*m))\n",
    "\n",
    "for element in A_poly:\n",
    "    if element[0] == 0:\n",
    "        A = (A + np.linalg.matrix_power(x, element[1])) % 2\n",
    "    elif element[0] == 1:\n",
    "        A = (A + np.linalg.matrix_power(y, element[1])) % 2\n",
    "    print(np.where(A[:, 1] == 1)[0])\n",
    "B = np.zeros((l*m, l*m))\n",
    "for element in B_poly:\n",
    "    if element[0] == 0:\n",
    "        B = (B + np.linalg.matrix_power(x, element[1])) % 2\n",
    "    elif element[0] == 1:\n",
    "        B = (B + np.linalg.matrix_power(y, element[1])) % 2\n",
    "    print(np.where(B[:, 1] == 1)[0])\n",
    "\n",
    "Hx = np.hstack((A, B))\n",
    "Hz = np.hstack((B.T, A.T))\n",
    "zero_contribution = np.zeros(Hx.shape)\n",
    "top = np.hstack((Hx, zero_contribution))\n",
    "bottom = np.hstack((zero_contribution, Hz))\n",
    "H = np.vstack((top, bottom))"
   ]
  }
 ],
 "metadata": {
  "kernelspec": {
   "display_name": "Python 3",
   "language": "python",
   "name": "python3"
  },
  "language_info": {
   "codemirror_mode": {
    "name": "ipython",
    "version": 3
   },
   "file_extension": ".py",
   "mimetype": "text/x-python",
   "name": "python",
   "nbconvert_exporter": "python",
   "pygments_lexer": "ipython3",
   "version": "3.10.5"
  }
 },
 "nbformat": 4,
 "nbformat_minor": 2
}
