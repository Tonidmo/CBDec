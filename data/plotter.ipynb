{
 "cells": [
  {
   "cell_type": "code",
   "execution_count": 4,
   "metadata": {},
   "outputs": [],
   "source": [
    "import numpy as np\n",
    "import matplotlib.pyplot as plt\n",
    "\n",
    "def load_data(name_file):\n",
    "    data = np.loadtxt(name_file)\n",
    "\n",
    "    # Extract columns\n",
    "    p = data[:, 0]\n",
    "    Pl = data[:, 1]\n",
    "    \n",
    "    return p, Pl\n",
    "\n",
    "# Load data from the file\n",
    "name_file = \"data_l6_m6_ng6_nb100.txt\"\n",
    "p66, Pl66 = load_data(name_file)\n",
    "\n",
    "\n",
    "name_file = \"data_l6_m6_ng6_nb100.txt\"\n",
    "p96, Pl96 = load_data(name_file)\n",
    "\n",
    "name_file = \"data_l6_m6_ng6_nb100.txt\"\n",
    "p126, Pl126 = load_data(name_file)\n"
   ]
  },
  {
   "cell_type": "code",
   "execution_count": 5,
   "metadata": {},
   "outputs": [
    {
     "data": {
      "image/png": "[encoded data removed]",
      "text/plain": [
       "<Figure size 432x288 with 1 Axes>"
      ]
     },
     "metadata": {
      "needs_background": "light"
     },
     "output_type": "display_data"
    }
   ],
   "source": [
    "# Plot in log-log scale\n",
    "plt.loglog(p66, Pl66, marker='o', linestyle='', label='[[72, 12, 6]]')\n",
    "plt.loglog(p66, Pl66, marker='o', linestyle='', label='[[108, 8, 10]]')\n",
    "plt.loglog(p66, Pl66, marker='o', linestyle='', label='[[144, 12, 12]]')\n",
    "plt.xlabel('p')\n",
    "plt.ylabel('Pl')\n",
    "plt.title('Log-Log Plot of p and Pl')\n",
    "plt.legend()\n",
    "plt.show()"
   ]
  }
 ],
 "metadata": {
  "kernelspec": {
   "display_name": "Python 3",
   "language": "python",
   "name": "python3"
  },
  "language_info": {
   "codemirror_mode": {
    "name": "ipython",
    "version": 3
   },
   "file_extension": ".py",
   "mimetype": "text/x-python",
   "name": "python",
   "nbconvert_exporter": "python",
   "pygments_lexer": "ipython3",
   "version": "3.10.5"
  }
 },
 "nbformat": 4,
 "nbformat_minor": 2
}
